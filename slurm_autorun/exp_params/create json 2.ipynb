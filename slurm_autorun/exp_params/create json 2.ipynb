{
 "cells": [
  {
   "cell_type": "code",
   "execution_count": 1,
   "metadata": {},
   "outputs": [],
   "source": [
    "import json\n",
    "from glob import glob"
   ]
  },
  {
   "cell_type": "code",
   "execution_count": 3,
   "metadata": {},
   "outputs": [],
   "source": [
    "# CONFIG = 'hopper_custom_rl' \n",
    "# DATASET = 'H-MIXED-RT-4'\n",
    "# model_dir_glob = \"/rds/project/rds-eWkDxBhxBrQ/dimorl/code/mopo/ray_mopo/Hopper_H-MIXED-RT-4/*/*\"\n",
    "# rollout_lengths = {1, 5, 50}\n",
    "\n",
    "# CONFIG = 'halfcheetah_custom_rl' \n",
    "# DATASET = 'MIXED-RT-1'\n",
    "# model_dir_glob = \"/rds/project/rds-eWkDxBhxBrQ/dimorl/code/mopo/ray_mopo/HalfCheetah_MIXED-RT-1/*/*\"\n",
    "# rollout_lengths = {5, 10} #{1, 5, 20}\n",
    "# mopo_penalty_coeffs = {0, 5}\n",
    "\n",
    "# CONFIG = 'halfcheetah_custom_rl' \n",
    "# DATASET = 'MIXED-RT-4'\n",
    "# model_dir_glob = \"/rds/project/rds-eWkDxBhxBrQ/dimorl/code/mopo/ray_mopo/HalfCheetah_MIXED-RT-4/*/*\"\n",
    "# rollout_lengths = {10, } #{5, 10} #{1, 5, 20}\n",
    "# mopo_penalty_coeffs = {5,} #{0, 5}\n",
    "\n",
    "# CONFIG = 'humonoid_custom_rl' \n",
    "# DATASET = 'Humanoid-Novice-10' \n",
    "# model_dir_glob = \"/rds/project/rds-eWkDxBhxBrQ/dimorl/code/mopo/ray_mopo/Humanoid_Humanoid-Novice-10/*/*\"\n",
    "# rollout_lengths = {5, 10, 20}\n",
    "# mopo_penalty_coeffs = {0, 1, 5} #{0, 1}\n",
    "\n",
    "# CONFIG = 'humanoid_custom_rl' \n",
    "# DATASET = 'Humanoid-Mixed-Novice' \n",
    "# model_dir_glob = \"/rds/project/rds-eWkDxBhxBrQ/dimorl/code/mopo/ray_mopo/Humanoid_Humanoid-Mixed-Novice/*/*\"\n",
    "# rollout_lengths = {5, 10, 20}\n",
    "# mopo_penalty_coeffs = {0, 1, 5} #{0, 1}\n",
    "\n",
    "# CONFIG = 'humanoid_custom_rl' \n",
    "# DATASET = 'Humanoid-Mixed-Expert' \n",
    "# model_dir_glob = \"/rds/project/rds-eWkDxBhxBrQ/dimorl/code/mopo/ray_mopo/Humanoid_Humanoid-Mixed-Expert/*/*\"\n",
    "# rollout_lengths = {5, 10, 20}\n",
    "# mopo_penalty_coeffs = {0, 1, 5} #{0, 1}\n",
    "\n",
    "# CONFIG = 'ant_custom_rl' \n",
    "# DATASET = 'Ant-Mixed-Expert' \n",
    "# model_dir_glob = \"/rds/project/rds-eWkDxBhxBrQ/dimorl/code/mopo/ray_mopo/Ant_Ant-Mixed-Expert/*/*\"\n",
    "# rollout_lengths = {1, 5, 10}\n",
    "# mopo_penalty_coeffs = {0, 1, 5} #{0, 1}\n",
    "\n",
    "\n",
    "# CONFIG = 'ant_custom_rl' \n",
    "# DATASET = 'Ant-Mixed-Novice' \n",
    "# model_dir_glob = \"/rds/project/rds-eWkDxBhxBrQ/dimorl/code/mopo/ray_mopo/Ant_Ant-Mixed-Novice/*/*\"\n",
    "# rollout_lengths = {1, 5, 10}\n",
    "# mopo_penalty_coeffs = {0, 1, 5} #{0, 1}\n",
    "\n",
    "# seeds = {1, 2}\n",
    "# mopo_penalty_coeffs = {0, 1, 5}\n",
    "\n",
    "# CONFIG = 'walker2d_custom_rl' \n",
    "# DATASET = 'W-MIXED-RT-4' \n",
    "# model_dir_glob = \"/rds/project/rds-eWkDxBhxBrQ/dimorl/code/mopo/ray_mopo/Walker2d_W-MIXED-RT-4/*/*\"\n",
    "# rollout_lengths = {5, 10}\n",
    "# mopo_penalty_coeffs = {0, } #{0, 1}\n",
    "\n",
    "# CONFIG = 'walker2d_custom_rl' \n",
    "# DATASET = 'W-MIXED-RT-5' \n",
    "# model_dir_glob = \"/rds/project/rds-eWkDxBhxBrQ/dimorl/code/mopo/ray_mopo/Walker2d_W-MIXED-RT-5/*/*\"\n",
    "# rollout_lengths = {5, 10}\n",
    "# mopo_penalty_coeffs = {0, } #{0, 1}\n",
    "\n",
    "# CONFIG = 'walker2d_custom_rl' \n",
    "# DATASET = 'Walker-Mixed-Novice' \n",
    "# model_dir_glob = \"/rds/project/rds-eWkDxBhxBrQ/dimorl/code/mopo/ray_mopo/Walker2d_Walker-Mixed-Novice/*/*\"\n",
    "# rollout_lengths = {5, 10}\n",
    "# mopo_penalty_coeffs = {0, } #{0, 1}\n",
    "\n",
    "# CONFIG = 'walker2d_custom_rl' \n",
    "# DATASET = 'Walker-Mixed-Expert' \n",
    "# model_dir_glob = \"/rds/project/rds-eWkDxBhxBrQ/dimorl/code/mopo/ray_mopo/Walker2d_Walker-Mixed-Expert/*/*\"\n",
    "# rollout_lengths = {5, 10}\n",
    "# mopo_penalty_coeffs = {0, } #{0, 1}\n",
    "\n",
    "# CONFIG = 'walker2d_custom_rl' \n",
    "# DATASET = 'W-MIXED-RT-1' \n",
    "# model_dir_glob = \"/rds/project/rds-eWkDxBhxBrQ/dimorl/code/mopo/ray_mopo/Walker2d_W-MIXED-RT-1/*/*\"\n",
    "# # rollout_lengths = {5, 10}\n",
    "# rollout_lengths = {10,}\n",
    "# mopo_penalty_coeffs = {0, } #{0, 1}\n",
    "\n",
    "CONFIG = 'hopper_custom_rl' \n",
    "DATASET = 'H-MIXED-RT-1'\n",
    "model_dir_glob = \"/rds/project/rds-eWkDxBhxBrQ/dimorl/code/mopo/ray_mopo/Hopper_H-MIXED-RT-1/*/*\"\n",
    "rollout_lengths = {50, 100}\n",
    "mopo_penalty_coeffs = {5, }\n",
    "\n",
    "# seeds = {10, 11, 12, 13, 14, 15, 16, 17, 18, 19,}\n",
    "seeds = {1, 2, 3} "
   ]
  },
  {
   "cell_type": "code",
   "execution_count": 4,
   "metadata": {},
   "outputs": [
    {
     "data": {
      "text/plain": [
       "['/rds/project/rds-eWkDxBhxBrQ/dimorl/code/mopo/ray_mopo/Hopper_H-MIXED-RT-1/rexb20/s18_2023-04-26_11-21-00w342adu7',\n",
       " '/rds/project/rds-eWkDxBhxBrQ/dimorl/code/mopo/ray_mopo/Hopper_H-MIXED-RT-1/r5_rexb10/s18_2023-04-26_11-20-57de5gpiam',\n",
       " '/rds/project/rds-eWkDxBhxBrQ/dimorl/code/mopo/ray_mopo/Hopper_H-MIXED-RT-1/r5_rexb20/s18_2023-04-26_11-20-59c2qrx8oa',\n",
       " '/rds/project/rds-eWkDxBhxBrQ/dimorl/code/mopo/ray_mopo/Hopper_H-MIXED-RT-1/rexb10/s18_2023-04-26_11-20-596om0csbr',\n",
       " '/rds/project/rds-eWkDxBhxBrQ/dimorl/code/mopo/ray_mopo/Hopper_H-MIXED-RT-1/rew_rexb10/s18_2023-04-26_11-21-025jbhji_d',\n",
       " '/rds/project/rds-eWkDxBhxBrQ/dimorl/code/mopo/ray_mopo/Hopper_H-MIXED-RT-1/rexb5/s18_2023-04-26_11-20-5745wygt_f',\n",
       " '/rds/project/rds-eWkDxBhxBrQ/dimorl/code/mopo/ray_mopo/Hopper_H-MIXED-RT-1/default/s18_2023-04-26_11-20-565vtxicgp',\n",
       " '/rds/project/rds-eWkDxBhxBrQ/dimorl/code/mopo/ray_mopo/Hopper_H-MIXED-RT-1/rew_rexb5/s18_2023-04-26_11-21-00fi4j3497',\n",
       " '/rds/project/rds-eWkDxBhxBrQ/dimorl/code/mopo/ray_mopo/Hopper_H-MIXED-RT-1/r5_rexb5/s18_2023-04-26_11-20-56b_af4oap',\n",
       " '/rds/project/rds-eWkDxBhxBrQ/dimorl/code/mopo/ray_mopo/Hopper_H-MIXED-RT-1/rew_rexb20/s18_2023-04-26_11-21-03s91irwo5']"
      ]
     },
     "execution_count": 4,
     "metadata": {},
     "output_type": "execute_result"
    }
   ],
   "source": [
    "dir_list = glob(model_dir_glob, recursive = True)\n",
    "\n",
    "def filter_dir(x):\n",
    "    last = x.split('/')[-1]\n",
    "    return last.startswith('s') \n",
    "\n",
    "with_s = list(filter(filter_dir, dir_list))\n",
    "with_s"
   ]
  },
  {
   "cell_type": "code",
   "execution_count": 5,
   "metadata": {},
   "outputs": [
    {
     "data": {
      "text/plain": [
       "['Hopper_H-MIXED-RT-1/rexb20/s18_2023-04-26_11-21-00w342adu7',\n",
       " 'Hopper_H-MIXED-RT-1/r5_rexb10/s18_2023-04-26_11-20-57de5gpiam',\n",
       " 'Hopper_H-MIXED-RT-1/r5_rexb20/s18_2023-04-26_11-20-59c2qrx8oa',\n",
       " 'Hopper_H-MIXED-RT-1/rexb10/s18_2023-04-26_11-20-596om0csbr',\n",
       " 'Hopper_H-MIXED-RT-1/rew_rexb10/s18_2023-04-26_11-21-025jbhji_d',\n",
       " 'Hopper_H-MIXED-RT-1/rexb5/s18_2023-04-26_11-20-5745wygt_f',\n",
       " 'Hopper_H-MIXED-RT-1/default/s18_2023-04-26_11-20-565vtxicgp',\n",
       " 'Hopper_H-MIXED-RT-1/rew_rexb5/s18_2023-04-26_11-21-00fi4j3497',\n",
       " 'Hopper_H-MIXED-RT-1/r5_rexb5/s18_2023-04-26_11-20-56b_af4oap',\n",
       " 'Hopper_H-MIXED-RT-1/rew_rexb20/s18_2023-04-26_11-21-03s91irwo5']"
      ]
     },
     "execution_count": 5,
     "metadata": {},
     "output_type": "execute_result"
    }
   ],
   "source": [
    "dir_list = glob(model_dir_glob, recursive = True)\n",
    "\n",
    "def filter_dir(x):\n",
    "    last = x.split('/')[-1]\n",
    "    return last.startswith('s') \n",
    "\n",
    "with_s = list(filter(filter_dir, dir_list))\n",
    "with_s = [\"/\".join(model_dir.split('/')[-3:])for model_dir in with_s]\n",
    "model_load_dirs = with_s\n",
    "with_s"
   ]
  },
  {
   "cell_type": "code",
   "execution_count": 6,
   "metadata": {},
   "outputs": [],
   "source": [
    "# model_load_dirs = [mld for mld in  model_load_dirs if mld.split('/')[-2] in ['rexb5-ra', 'rexb10-ra', 'rexb20-ra', 'rexb5-check']]\n",
    "# model_load_dirs = [mld for mld in  model_load_dirs if mld.split('/')[-2] in \n",
    "#                    ['default-512', ]]\n",
    "\n",
    "# model_load_dirs = [mld for mld in  model_load_dirs if mld.split('/')[-2] in \n",
    "#                    ['rexb5-check-6', 'rexb5-check', 'default-check2', 'default-check']]\n",
    "\n",
    "# model_load_dirs = [mld for mld in  model_load_dirs if 'default/s6' in mld]\n",
    "\n",
    "\n",
    "# model_load_dirs = [mld for mld in  model_load_dirs if '/s6_' in mld and ('rp5_' in mld or 'rp_' in mld) and 'std' not in mld]\n",
    "# model_load_dirs"
   ]
  },
  {
   "cell_type": "code",
   "execution_count": 7,
   "metadata": {},
   "outputs": [
    {
     "data": {
      "text/plain": [
       "['Hopper_H-MIXED-RT-1/rexb20/s18_2023-04-26_11-21-00w342adu7',\n",
       " 'Hopper_H-MIXED-RT-1/r5_rexb10/s18_2023-04-26_11-20-57de5gpiam',\n",
       " 'Hopper_H-MIXED-RT-1/r5_rexb20/s18_2023-04-26_11-20-59c2qrx8oa',\n",
       " 'Hopper_H-MIXED-RT-1/rexb10/s18_2023-04-26_11-20-596om0csbr',\n",
       " 'Hopper_H-MIXED-RT-1/rew_rexb10/s18_2023-04-26_11-21-025jbhji_d',\n",
       " 'Hopper_H-MIXED-RT-1/rexb5/s18_2023-04-26_11-20-5745wygt_f',\n",
       " 'Hopper_H-MIXED-RT-1/default/s18_2023-04-26_11-20-565vtxicgp',\n",
       " 'Hopper_H-MIXED-RT-1/rew_rexb5/s18_2023-04-26_11-21-00fi4j3497',\n",
       " 'Hopper_H-MIXED-RT-1/r5_rexb5/s18_2023-04-26_11-20-56b_af4oap',\n",
       " 'Hopper_H-MIXED-RT-1/rew_rexb20/s18_2023-04-26_11-21-03s91irwo5']"
      ]
     },
     "execution_count": 7,
     "metadata": {},
     "output_type": "execute_result"
    }
   ],
   "source": [
    "model_load_dirs"
   ]
  },
  {
   "cell_type": "code",
   "execution_count": 8,
   "metadata": {},
   "outputs": [],
   "source": [
    "list_to_dump = []\n",
    "\n",
    "for mld in model_load_dirs:\n",
    "    bnn_name = mld.split('/')[-2]\n",
    "    bnn_seed = mld.split('/')[-1].split('_')[0]\n",
    "    for rl in rollout_lengths:\n",
    "        for mp in mopo_penalty_coeffs:\n",
    "            for seed in seeds:\n",
    "                exp_name = f'{bnn_name}{bnn_seed}_mp{mp}rl{rl}'\n",
    "                list_to_dump.append(dict(config=CONFIG, dataset=DATASET, rollout_length=rl, mopo_penalty_coeff=mp,\n",
    "                                    seed=seed, model_load_dir=mld, exp_name=exp_name)) \n",
    "dataset = f\"{DATASET}_rex_exp_params.json\"\n",
    "with open(dataset, \"w\") as outfile:\n",
    "    json.dump(list_to_dump, outfile, indent=\"\")"
   ]
  },
  {
   "cell_type": "code",
   "execution_count": 9,
   "metadata": {},
   "outputs": [
    {
     "data": {
      "text/plain": [
       "'H-MIXED-RT-1_rex_exp_params.json'"
      ]
     },
     "execution_count": 9,
     "metadata": {},
     "output_type": "execute_result"
    }
   ],
   "source": [
    "dataset"
   ]
  },
  {
   "cell_type": "code",
   "execution_count": null,
   "metadata": {},
   "outputs": [],
   "source": []
  },
  {
   "cell_type": "code",
   "execution_count": null,
   "metadata": {},
   "outputs": [],
   "source": []
  }
 ],
 "metadata": {
  "kernelspec": {
   "display_name": "Python 3",
   "language": "python",
   "name": "python3"
  },
  "language_info": {
   "codemirror_mode": {
    "name": "ipython",
    "version": 3
   },
   "file_extension": ".py",
   "mimetype": "text/x-python",
   "name": "python",
   "nbconvert_exporter": "python",
   "pygments_lexer": "ipython3",
   "version": "3.6.5"
  }
 },
 "nbformat": 4,
 "nbformat_minor": 4
}
