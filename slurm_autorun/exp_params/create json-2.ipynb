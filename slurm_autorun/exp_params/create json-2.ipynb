{
 "cells": [
  {
   "cell_type": "code",
   "execution_count": 5,
   "metadata": {},
   "outputs": [],
   "source": [
    "import json"
   ]
  },
  {
   "cell_type": "code",
   "execution_count": 6,
   "metadata": {},
   "outputs": [],
   "source": [
    "CONFIG = 'halfcheetah_custom' \n",
    "# DATASETS = {\"HalfCheetah-Expert-50k-1p\", \n",
    "#             \"HalfCheetah-Expert-100k-1p\", \"HalfCheetah-Expert-100k-2p\", \"HalfCheetah-Expert-100k-3p\", \"HalfCheetah-Expert-100k-5p\",\n",
    "#             \"HalfCheetah-Expert-Medium60e-50-50-100k-1p\", \"HalfCheetah-Expert-Medium60e-60-40-100k-1p\", \"HalfCheetah-Expert-Medium60e-70-30-100k-1p\", \"HalfCheetah-Expert-Medium60e-80-20-100k-1p\", \"HalfCheetah-Expert-Medium60e-90-10-100k-1p\",\n",
    "#             }\n",
    "\n",
    "# DATASETS = {\"HalfCheetah-Expert-250k-1p\", \"HalfCheetah-Expert-500k-1p\", \"HalfCheetah-Expert-1m-1p\"\n",
    "#             }\n",
    "\n",
    "# \"HalfCheetah-Expert-Medium30e-50-50-100k-1p\", \"HalfCheetah-Expert-Medium10e-50-50-100k-1p\"\n",
    "\n",
    "DATASETS = {\"HalfCheetah-Expert-Medium30e-50-50-100k-1p\", \"HalfCheetah-Expert-Medium30e-50-50-100k-2p\", \n",
    "            \"HalfCheetah-Expert-Medium30e-50-50-100k-4p\",\n",
    "            \"HalfCheetah-Expert-Medium30e-50-50-1m-1p\", \"HalfCheetah-Expert-Medium30e-50-50-1m-2p\", \n",
    "            \"HalfCheetah-Expert-Medium30e-50-50-1m-4p\",\n",
    "            \"HalfCheetah-Expert-Medium30e-50-50-500k-1p\"\n",
    "            }\n",
    "\n",
    "rollout_length = 5\n",
    "mopo_penalty_coeff = 5\n",
    "train_bnn_only=0\n",
    "rex_type=\"var\"\n",
    "\n",
    "# rex\n",
    "rex = 1\n",
    "rex_beta = 10\n",
    "policy_type = \"random_5\"\n",
    "\n",
    "# no rex\n",
    "# rex = 0\n",
    "# rex_beta = 0\n",
    "# policy_type = \"default\"\n",
    "\n",
    "\n",
    "seeds = {21, 22, 23} "
   ]
  },
  {
   "cell_type": "code",
   "execution_count": 7,
   "metadata": {},
   "outputs": [],
   "source": [
    "list_to_dump = []\n",
    "\n",
    "\n",
    "for dataset in DATASETS:\n",
    "    for seed in seeds:\n",
    "        exp_name = f'{dataset}'\n",
    "        if rex:\n",
    "            exp_name += f'-r5b{rex_beta}'\n",
    "        list_to_dump.append(dict(config=CONFIG, \n",
    "                                 dataset=dataset,\n",
    "                                 rex_type=rex_type,\n",
    "                                 rex=rex,\n",
    "                                 rex_beta=rex_beta,\n",
    "                                 policy_type=policy_type,\n",
    "                                 rollout_length=rollout_length, \n",
    "                                 mopo_penalty_coeff=mopo_penalty_coeff,\n",
    "                                 train_bnn_only=train_bnn_only,\n",
    "                                 seed=seed,\n",
    "                                 exp_name=exp_name)) \n",
    "    dataset = f\"diversity_mixed_params_rex.json\"\n",
    "with open(dataset, \"w\") as outfile:\n",
    "    json.dump(list_to_dump, outfile, indent=\"\")"
   ]
  },
  {
   "cell_type": "code",
   "execution_count": 8,
   "metadata": {},
   "outputs": [
    {
     "data": {
      "text/plain": [
       "'diversity_mixed_params_rex.json'"
      ]
     },
     "execution_count": 8,
     "metadata": {},
     "output_type": "execute_result"
    }
   ],
   "source": [
    "dataset"
   ]
  },
  {
   "cell_type": "code",
   "execution_count": null,
   "metadata": {},
   "outputs": [],
   "source": []
  },
  {
   "cell_type": "code",
   "execution_count": null,
   "metadata": {},
   "outputs": [],
   "source": []
  }
 ],
 "metadata": {
  "kernelspec": {
   "display_name": "Python 3",
   "language": "python",
   "name": "python3"
  },
  "language_info": {
   "codemirror_mode": {
    "name": "ipython",
    "version": 3
   },
   "file_extension": ".py",
   "mimetype": "text/x-python",
   "name": "python",
   "nbconvert_exporter": "python",
   "pygments_lexer": "ipython3",
   "version": "3.6.5"
  }
 },
 "nbformat": 4,
 "nbformat_minor": 4
}
