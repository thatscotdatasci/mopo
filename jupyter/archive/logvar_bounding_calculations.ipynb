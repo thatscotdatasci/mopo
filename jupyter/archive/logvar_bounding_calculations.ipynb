{
 "cells": [
  {
   "cell_type": "code",
   "execution_count": 1,
   "metadata": {},
   "outputs": [],
   "source": [
    "import numpy as np"
   ]
  },
  {
   "cell_type": "markdown",
   "metadata": {},
   "source": [
    "Needed to determine how the log variance could exceed the learned maximum."
   ]
  },
  {
   "cell_type": "markdown",
   "metadata": {},
   "source": [
    "# Dummy Example"
   ]
  },
  {
   "cell_type": "code",
   "execution_count": 40,
   "metadata": {},
   "outputs": [],
   "source": [
    "min_val = -5\n",
    "max_val = -1"
   ]
  },
  {
   "cell_type": "code",
   "execution_count": 43,
   "metadata": {},
   "outputs": [],
   "source": [
    "vals = np.linspace(1,100,100)\n",
    "vals = max_val - np.log(np.exp(max_val-vals)+1)\n",
    "vals = min_val + np.log(np.exp(vals-min_val)+1)"
   ]
  },
  {
   "cell_type": "code",
   "execution_count": 44,
   "metadata": {},
   "outputs": [
    {
     "data": {
      "text/plain": [
       "array([-1.10634687, -1.02954234, -0.99967063, -0.98844424, -0.98428117,\n",
       "       -0.98274514, -0.98217944, -0.98197125, -0.98189465, -0.98186647,\n",
       "       -0.98185611, -0.98185229, -0.98185089, -0.98185037, -0.98185018,\n",
       "       -0.98185011, -0.98185009, -0.98185008, -0.98185007, -0.98185007,\n",
       "       -0.98185007, -0.98185007, -0.98185007, -0.98185007, -0.98185007,\n",
       "       -0.98185007, -0.98185007, -0.98185007, -0.98185007, -0.98185007,\n",
       "       -0.98185007, -0.98185007, -0.98185007, -0.98185007, -0.98185007,\n",
       "       -0.98185007, -0.98185007, -0.98185007, -0.98185007, -0.98185007,\n",
       "       -0.98185007, -0.98185007, -0.98185007, -0.98185007, -0.98185007,\n",
       "       -0.98185007, -0.98185007, -0.98185007, -0.98185007, -0.98185007,\n",
       "       -0.98185007, -0.98185007, -0.98185007, -0.98185007, -0.98185007,\n",
       "       -0.98185007, -0.98185007, -0.98185007, -0.98185007, -0.98185007,\n",
       "       -0.98185007, -0.98185007, -0.98185007, -0.98185007, -0.98185007,\n",
       "       -0.98185007, -0.98185007, -0.98185007, -0.98185007, -0.98185007,\n",
       "       -0.98185007, -0.98185007, -0.98185007, -0.98185007, -0.98185007,\n",
       "       -0.98185007, -0.98185007, -0.98185007, -0.98185007, -0.98185007,\n",
       "       -0.98185007, -0.98185007, -0.98185007, -0.98185007, -0.98185007,\n",
       "       -0.98185007, -0.98185007, -0.98185007, -0.98185007, -0.98185007,\n",
       "       -0.98185007, -0.98185007, -0.98185007, -0.98185007, -0.98185007,\n",
       "       -0.98185007, -0.98185007, -0.98185007, -0.98185007, -0.98185007])"
      ]
     },
     "execution_count": 44,
     "metadata": {},
     "output_type": "execute_result"
    }
   ],
   "source": [
    "vals"
   ]
  },
  {
   "cell_type": "markdown",
   "metadata": {},
   "source": [
    "# Real Example"
   ]
  },
  {
   "cell_type": "code",
   "execution_count": 28,
   "metadata": {},
   "outputs": [
    {
     "data": {
      "text/plain": [
       "127241.03066937259"
      ]
     },
     "execution_count": 28,
     "metadata": {},
     "output_type": "execute_result"
    }
   ],
   "source": [
    "sample = np.array([\n",
    "    5.48461,   3.40673,   8.44191, -14.93884,   7.46104,   2.45829,\n",
    "    9.97676,   7.49455,   3.1795 ,  15.60679,  16.05075,  17.35076,\n",
    "    16.50035,  22.97247,  11.90576,  22.61175,  17.40508,  10.76809\n",
    "])\n",
    "np.linalg.norm(np.sqrt(np.exp(sample)))"
   ]
  },
  {
   "cell_type": "code",
   "execution_count": 26,
   "metadata": {},
   "outputs": [
    {
     "data": {
      "text/plain": [
       "0.7261655316671287"
      ]
     },
     "execution_count": 26,
     "metadata": {},
     "output_type": "execute_result"
    }
   ],
   "source": [
    "min_logvar = np.array([\n",
    "    -4.33171, -9.58496, -9.21391, -7.47119, -7.35215, -7.89801,\n",
    "    -8.17755, -7.86038, -7.80773, -6.33359, -6.3158 , -4.90135,\n",
    "    -2.51767, -2.456  , -2.05341, -2.67974, -2.2923 , -3.32446\n",
    "])\n",
    "np.linalg.norm(np.sqrt(np.exp(min_logvar)))"
   ]
  },
  {
   "cell_type": "code",
   "execution_count": 27,
   "metadata": {},
   "outputs": [
    {
     "data": {
      "text/plain": [
       "4.140018169850327"
      ]
     },
     "execution_count": 27,
     "metadata": {},
     "output_type": "execute_result"
    }
   ],
   "source": [
    "max_logvar = np.array([\n",
    "    -1.50145, -7.33576, -7.1442 , -5.89454, -5.83358, -5.96555,\n",
    "    -6.19728, -5.70787, -5.85021, -3.60109, -2.57215, -1.31128,\n",
    "    0.57787,  0.85399,  1.14992,  0.49888,  1.02266,  1.57054\n",
    "])\n",
    "np.linalg.norm(np.sqrt(np.exp(max_logvar)))"
   ]
  },
  {
   "cell_type": "code",
   "execution_count": 30,
   "metadata": {},
   "outputs": [
    {
     "data": {
      "text/plain": [
       "4.202802768612281"
      ]
     },
     "execution_count": 30,
     "metadata": {},
     "output_type": "execute_result"
    }
   ],
   "source": [
    "sample_1 = max_logvar - np.log(np.exp(max_logvar-sample)+1)\n",
    "sample_2 = min_logvar + np.log(np.exp(sample_1-min_logvar)+1)\n",
    "np.linalg.norm(np.sqrt(np.exp(sample_2)))"
   ]
  },
  {
   "cell_type": "code",
   "execution_count": null,
   "metadata": {},
   "outputs": [],
   "source": []
  }
 ],
 "metadata": {
  "kernelspec": {
   "display_name": "Python 3.6.5",
   "language": "python",
   "name": "python3"
  },
  "language_info": {
   "codemirror_mode": {
    "name": "ipython",
    "version": 3
   },
   "file_extension": ".py",
   "mimetype": "text/x-python",
   "name": "python",
   "nbconvert_exporter": "python",
   "pygments_lexer": "ipython3",
   "version": "3.6.5"
  },
  "orig_nbformat": 4,
  "vscode": {
   "interpreter": {
    "hash": "936b2a6d687a519ccce457aa011f3b4e6e052a7c5dcd933bf62df66d58cf2c35"
   }
  }
 },
 "nbformat": 4,
 "nbformat_minor": 2
}
